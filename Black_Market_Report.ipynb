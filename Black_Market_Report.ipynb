{
  "nbformat": 4,
  "nbformat_minor": 0,
  "metadata": {
    "colab": {
      "provenance": [],
      "collapsed_sections": [],
      "include_colab_link": true
    },
    "kernelspec": {
      "name": "python3",
      "display_name": "Python 3"
    },
    "language_info": {
      "name": "python"
    }
  },
  "cells": [
    {
      "cell_type": "markdown",
      "metadata": {
        "id": "view-in-github",
        "colab_type": "text"
      },
      "source": [
        "<a href=\"https://colab.research.google.com/github/h4nek/C-C---Digital-Forensics---Black-Market/blob/main/Black_Market_Report.ipynb\" target=\"_parent\"><img src=\"https://colab.research.google.com/assets/colab-badge.svg\" alt=\"Open In Colab\"/></a>"
      ]
    },
    {
      "cell_type": "markdown",
      "source": [
        "# Assignment 1 - Black Market Analysis\n",
        "\n",
        "Assignment Group 2\n",
        "\n",
        "2022-CSC-1A\n",
        "\n",
        "Oct 5, 2022\n",
        "\n",
        "\n",
        "\n",
        "**Name, Student Number**\n",
        "\n",
        "Hynek Noll, s3102181\n",
        "\n",
        "Sven Sonneveld, s2594854\n",
        "\n"
      ],
      "metadata": {
        "id": "TM_dRRHQ_RwR"
      }
    },
    {
      "cell_type": "markdown",
      "source": [
        "**Motivation**\n",
        "\n",
        "To understand how the black market works, what items they are offering and if the items are legal or not.\n",
        "\n",
        "**Goals**\n",
        "\n",
        "To look at a black market website using the Tor browser, gather data about several different offers and sellers and determine if what they are selling is illegal or not.\n"
      ],
      "metadata": {
        "id": "0G5Wmfpt_so6"
      }
    },
    {
      "cell_type": "markdown",
      "source": [
        "## Introduction\n",
        "\n",
        "Our goal was to analyze items and users on a black market to get a feel for how it works. The black market was accessed through Tor, a browser that uses dedicated routers, each providing VPN service to provide greater security to its users. Furthermore, it is (exclusively) able to access URLs under `.onion` domain. As such, it is widely used for different forms of illegal activity. The trade-off of Tor's security is that it can be very slow (as we have experienced).\n",
        "\n",
        "After our brief analysis of available black markets on (e.g.) https://darknetone.com/, we've chosen to analyze [Bohemia Market](http://boh75g7wqppzbw43tvqx2sllihy25qzjmquzqsua5eemq7vxgx6rikqd.onion/). Bohemia Market is, according to [its description on DarknetOne](https://darknetone.com/market/bohemia-market/), a newer market that gained popularity after White House Market was closed. It provides a variety of goods, ranging from drugs to fraud manuals, fake IDs, and malware.\n",
        "\n",
        "The website has a couple of measures to prevent DDoS attacks or web crawlers by employing multiple bot checkers (such as requiring the users to complete the URL and copy \"obfuscated\" letters). A registration was needed to be able to access the website."
      ],
      "metadata": {
        "id": "HKfPyIORQ0xb"
      }
    },
    {
      "cell_type": "markdown",
      "source": [
        "## Methodology\n",
        "We've logged in to the website, then picked a category. We've simply copied the first 8-16 items and repeated for multiple categories. We have put the items' properties into a table manually and afterwards did transformations using Python to generate the required table of the Sellers and a graph.\n",
        "\n",
        "Some screenshots of the items together with the website's DDoS protection and front page can be found in the Appendix A."
      ],
      "metadata": {
        "id": "iPY-ONNQ-Zw4"
      }
    },
    {
      "cell_type": "code",
      "source": [
        "import numpy as np\n",
        "import pandas as pd\n",
        "from google.colab import drive\n",
        "import os\n",
        "\n",
        "# drive.mount('/content/drive')"
      ],
      "metadata": {
        "id": "p8XBWJJrTdMY"
      },
      "execution_count": 2,
      "outputs": []
    },
    {
      "cell_type": "code",
      "source": [
        "items = pd.read_csv('https://raw.githubusercontent.com/h4nek/C-C---Digital-Forensics---Black-Market/main/Items%20-%20List%201.csv')\n",
        "items\n"
      ],
      "metadata": {
        "colab": {
          "base_uri": "https://localhost:8080/",
          "height": 1035
        },
        "id": "u0SljrS5Tf9E",
        "outputId": "f2c72d2f-f538-4395-d3e1-4f77f928d18e"
      },
      "execution_count": 3,
      "outputs": [
        {
          "output_type": "execute_result",
          "data": {
            "text/plain": [
              "                                                  Name         Category  \\\n",
              "0    Trenbolone Acetate / Finajet 100mg/ml 10ml Hil...         Steroids   \n",
              "1                          Ignis Pharma TMT 400mg 10ml         Steroids   \n",
              "2               GHRP-6 & CJC-1295 Mix 10mg Bio-Peptide         Steroids   \n",
              "3                          Testosterone Propionate 100         Steroids   \n",
              "4                    ROHM Deca 300mg/ml 10ml Vial - W2         Steroids   \n",
              "..                                                 ...              ...   \n",
              "111                               1st Class Signed For  Benzodiazepines   \n",
              "112       50x SUBOXONE 8mg/2mg SUBLINGUAL FILMS - SALE  Benzodiazepines   \n",
              "113  1000PC // LSD ETBIKE 200 UG // Veterab Vendor ...  Benzodiazepines   \n",
              "114                                              5bnpd  Benzodiazepines   \n",
              "115         28g Weed Gorilla Glue from Spain 156.8 GBP  Benzodiazepines   \n",
              "\n",
              "               Seller  Seller Rating (1-5)  Seller Items Sold  Price (EUR)  \\\n",
              "0             Mr Tren                  4.5                 87        41.00   \n",
              "1           gearheadz                  4.8               1062        57.05   \n",
              "2    SteroidWarehouse                  5.0                 78        50.00   \n",
              "3    americansteroids                  4.8                193        35.01   \n",
              "4         buysteroids                  4.8                544        42.22   \n",
              "..                ...                  ...                ...          ...   \n",
              "111         buddy1950                  4.8                290         5.13   \n",
              "112           mrfrank                  4.8                 54       750.30   \n",
              "113       MisterMolly                  4.6                 70      2224.95   \n",
              "114          Chuzac12                  0.0                  0       100.04   \n",
              "115         maurelius                  4.6                121       178.91   \n",
              "\n",
              "         Stock  Legality (L/I/D)  \\\n",
              "0    Unlimited                 I   \n",
              "1    Unlimited                 I   \n",
              "2           29                 I   \n",
              "3          990                 I   \n",
              "4    Unlimited                 I   \n",
              "..         ...               ...   \n",
              "111        999                 I   \n",
              "112  Unlimited                 I   \n",
              "113  Unlimited                 I   \n",
              "114  Unlimited                 I   \n",
              "115       1000                 I   \n",
              "\n",
              "                                  Legality Explanation  \n",
              "0    Illegal in most countries, but it is e.g. lega...  \n",
              "1    Illegal in most countries, but it is e.g. lega...  \n",
              "2                                                  NaN  \n",
              "3    Illegal in most countries, but it is e.g. lega...  \n",
              "4    Illegal in most countries, but it is e.g. lega...  \n",
              "..                                                 ...  \n",
              "111                                                NaN  \n",
              "112                                                NaN  \n",
              "113                                                NaN  \n",
              "114                                                NaN  \n",
              "115                                                NaN  \n",
              "\n",
              "[116 rows x 9 columns]"
            ],
            "text/html": [
              "\n",
              "  <div id=\"df-0e608e55-49cf-436a-b659-9e94e29234c8\">\n",
              "    <div class=\"colab-df-container\">\n",
              "      <div>\n",
              "<style scoped>\n",
              "    .dataframe tbody tr th:only-of-type {\n",
              "        vertical-align: middle;\n",
              "    }\n",
              "\n",
              "    .dataframe tbody tr th {\n",
              "        vertical-align: top;\n",
              "    }\n",
              "\n",
              "    .dataframe thead th {\n",
              "        text-align: right;\n",
              "    }\n",
              "</style>\n",
              "<table border=\"1\" class=\"dataframe\">\n",
              "  <thead>\n",
              "    <tr style=\"text-align: right;\">\n",
              "      <th></th>\n",
              "      <th>Name</th>\n",
              "      <th>Category</th>\n",
              "      <th>Seller</th>\n",
              "      <th>Seller Rating (1-5)</th>\n",
              "      <th>Seller Items Sold</th>\n",
              "      <th>Price (EUR)</th>\n",
              "      <th>Stock</th>\n",
              "      <th>Legality (L/I/D)</th>\n",
              "      <th>Legality Explanation</th>\n",
              "    </tr>\n",
              "  </thead>\n",
              "  <tbody>\n",
              "    <tr>\n",
              "      <th>0</th>\n",
              "      <td>Trenbolone Acetate / Finajet 100mg/ml 10ml Hil...</td>\n",
              "      <td>Steroids</td>\n",
              "      <td>Mr Tren</td>\n",
              "      <td>4.5</td>\n",
              "      <td>87</td>\n",
              "      <td>41.00</td>\n",
              "      <td>Unlimited</td>\n",
              "      <td>I</td>\n",
              "      <td>Illegal in most countries, but it is e.g. lega...</td>\n",
              "    </tr>\n",
              "    <tr>\n",
              "      <th>1</th>\n",
              "      <td>Ignis Pharma TMT 400mg 10ml</td>\n",
              "      <td>Steroids</td>\n",
              "      <td>gearheadz</td>\n",
              "      <td>4.8</td>\n",
              "      <td>1062</td>\n",
              "      <td>57.05</td>\n",
              "      <td>Unlimited</td>\n",
              "      <td>I</td>\n",
              "      <td>Illegal in most countries, but it is e.g. lega...</td>\n",
              "    </tr>\n",
              "    <tr>\n",
              "      <th>2</th>\n",
              "      <td>GHRP-6 &amp; CJC-1295 Mix 10mg Bio-Peptide</td>\n",
              "      <td>Steroids</td>\n",
              "      <td>SteroidWarehouse</td>\n",
              "      <td>5.0</td>\n",
              "      <td>78</td>\n",
              "      <td>50.00</td>\n",
              "      <td>29</td>\n",
              "      <td>I</td>\n",
              "      <td>NaN</td>\n",
              "    </tr>\n",
              "    <tr>\n",
              "      <th>3</th>\n",
              "      <td>Testosterone Propionate 100</td>\n",
              "      <td>Steroids</td>\n",
              "      <td>americansteroids</td>\n",
              "      <td>4.8</td>\n",
              "      <td>193</td>\n",
              "      <td>35.01</td>\n",
              "      <td>990</td>\n",
              "      <td>I</td>\n",
              "      <td>Illegal in most countries, but it is e.g. lega...</td>\n",
              "    </tr>\n",
              "    <tr>\n",
              "      <th>4</th>\n",
              "      <td>ROHM Deca 300mg/ml 10ml Vial - W2</td>\n",
              "      <td>Steroids</td>\n",
              "      <td>buysteroids</td>\n",
              "      <td>4.8</td>\n",
              "      <td>544</td>\n",
              "      <td>42.22</td>\n",
              "      <td>Unlimited</td>\n",
              "      <td>I</td>\n",
              "      <td>Illegal in most countries, but it is e.g. lega...</td>\n",
              "    </tr>\n",
              "    <tr>\n",
              "      <th>...</th>\n",
              "      <td>...</td>\n",
              "      <td>...</td>\n",
              "      <td>...</td>\n",
              "      <td>...</td>\n",
              "      <td>...</td>\n",
              "      <td>...</td>\n",
              "      <td>...</td>\n",
              "      <td>...</td>\n",
              "      <td>...</td>\n",
              "    </tr>\n",
              "    <tr>\n",
              "      <th>111</th>\n",
              "      <td>1st Class Signed For</td>\n",
              "      <td>Benzodiazepines</td>\n",
              "      <td>buddy1950</td>\n",
              "      <td>4.8</td>\n",
              "      <td>290</td>\n",
              "      <td>5.13</td>\n",
              "      <td>999</td>\n",
              "      <td>I</td>\n",
              "      <td>NaN</td>\n",
              "    </tr>\n",
              "    <tr>\n",
              "      <th>112</th>\n",
              "      <td>50x SUBOXONE 8mg/2mg SUBLINGUAL FILMS - SALE</td>\n",
              "      <td>Benzodiazepines</td>\n",
              "      <td>mrfrank</td>\n",
              "      <td>4.8</td>\n",
              "      <td>54</td>\n",
              "      <td>750.30</td>\n",
              "      <td>Unlimited</td>\n",
              "      <td>I</td>\n",
              "      <td>NaN</td>\n",
              "    </tr>\n",
              "    <tr>\n",
              "      <th>113</th>\n",
              "      <td>1000PC // LSD ETBIKE 200 UG // Veterab Vendor ...</td>\n",
              "      <td>Benzodiazepines</td>\n",
              "      <td>MisterMolly</td>\n",
              "      <td>4.6</td>\n",
              "      <td>70</td>\n",
              "      <td>2224.95</td>\n",
              "      <td>Unlimited</td>\n",
              "      <td>I</td>\n",
              "      <td>NaN</td>\n",
              "    </tr>\n",
              "    <tr>\n",
              "      <th>114</th>\n",
              "      <td>5bnpd</td>\n",
              "      <td>Benzodiazepines</td>\n",
              "      <td>Chuzac12</td>\n",
              "      <td>0.0</td>\n",
              "      <td>0</td>\n",
              "      <td>100.04</td>\n",
              "      <td>Unlimited</td>\n",
              "      <td>I</td>\n",
              "      <td>NaN</td>\n",
              "    </tr>\n",
              "    <tr>\n",
              "      <th>115</th>\n",
              "      <td>28g Weed Gorilla Glue from Spain 156.8 GBP</td>\n",
              "      <td>Benzodiazepines</td>\n",
              "      <td>maurelius</td>\n",
              "      <td>4.6</td>\n",
              "      <td>121</td>\n",
              "      <td>178.91</td>\n",
              "      <td>1000</td>\n",
              "      <td>I</td>\n",
              "      <td>NaN</td>\n",
              "    </tr>\n",
              "  </tbody>\n",
              "</table>\n",
              "<p>116 rows × 9 columns</p>\n",
              "</div>\n",
              "      <button class=\"colab-df-convert\" onclick=\"convertToInteractive('df-0e608e55-49cf-436a-b659-9e94e29234c8')\"\n",
              "              title=\"Convert this dataframe to an interactive table.\"\n",
              "              style=\"display:none;\">\n",
              "        \n",
              "  <svg xmlns=\"http://www.w3.org/2000/svg\" height=\"24px\"viewBox=\"0 0 24 24\"\n",
              "       width=\"24px\">\n",
              "    <path d=\"M0 0h24v24H0V0z\" fill=\"none\"/>\n",
              "    <path d=\"M18.56 5.44l.94 2.06.94-2.06 2.06-.94-2.06-.94-.94-2.06-.94 2.06-2.06.94zm-11 1L8.5 8.5l.94-2.06 2.06-.94-2.06-.94L8.5 2.5l-.94 2.06-2.06.94zm10 10l.94 2.06.94-2.06 2.06-.94-2.06-.94-.94-2.06-.94 2.06-2.06.94z\"/><path d=\"M17.41 7.96l-1.37-1.37c-.4-.4-.92-.59-1.43-.59-.52 0-1.04.2-1.43.59L10.3 9.45l-7.72 7.72c-.78.78-.78 2.05 0 2.83L4 21.41c.39.39.9.59 1.41.59.51 0 1.02-.2 1.41-.59l7.78-7.78 2.81-2.81c.8-.78.8-2.07 0-2.86zM5.41 20L4 18.59l7.72-7.72 1.47 1.35L5.41 20z\"/>\n",
              "  </svg>\n",
              "      </button>\n",
              "      \n",
              "  <style>\n",
              "    .colab-df-container {\n",
              "      display:flex;\n",
              "      flex-wrap:wrap;\n",
              "      gap: 12px;\n",
              "    }\n",
              "\n",
              "    .colab-df-convert {\n",
              "      background-color: #E8F0FE;\n",
              "      border: none;\n",
              "      border-radius: 50%;\n",
              "      cursor: pointer;\n",
              "      display: none;\n",
              "      fill: #1967D2;\n",
              "      height: 32px;\n",
              "      padding: 0 0 0 0;\n",
              "      width: 32px;\n",
              "    }\n",
              "\n",
              "    .colab-df-convert:hover {\n",
              "      background-color: #E2EBFA;\n",
              "      box-shadow: 0px 1px 2px rgba(60, 64, 67, 0.3), 0px 1px 3px 1px rgba(60, 64, 67, 0.15);\n",
              "      fill: #174EA6;\n",
              "    }\n",
              "\n",
              "    [theme=dark] .colab-df-convert {\n",
              "      background-color: #3B4455;\n",
              "      fill: #D2E3FC;\n",
              "    }\n",
              "\n",
              "    [theme=dark] .colab-df-convert:hover {\n",
              "      background-color: #434B5C;\n",
              "      box-shadow: 0px 1px 3px 1px rgba(0, 0, 0, 0.15);\n",
              "      filter: drop-shadow(0px 1px 2px rgba(0, 0, 0, 0.3));\n",
              "      fill: #FFFFFF;\n",
              "    }\n",
              "  </style>\n",
              "\n",
              "      <script>\n",
              "        const buttonEl =\n",
              "          document.querySelector('#df-0e608e55-49cf-436a-b659-9e94e29234c8 button.colab-df-convert');\n",
              "        buttonEl.style.display =\n",
              "          google.colab.kernel.accessAllowed ? 'block' : 'none';\n",
              "\n",
              "        async function convertToInteractive(key) {\n",
              "          const element = document.querySelector('#df-0e608e55-49cf-436a-b659-9e94e29234c8');\n",
              "          const dataTable =\n",
              "            await google.colab.kernel.invokeFunction('convertToInteractive',\n",
              "                                                     [key], {});\n",
              "          if (!dataTable) return;\n",
              "\n",
              "          const docLinkHtml = 'Like what you see? Visit the ' +\n",
              "            '<a target=\"_blank\" href=https://colab.research.google.com/notebooks/data_table.ipynb>data table notebook</a>'\n",
              "            + ' to learn more about interactive tables.';\n",
              "          element.innerHTML = '';\n",
              "          dataTable['output_type'] = 'display_data';\n",
              "          await google.colab.output.renderOutput(dataTable, element);\n",
              "          const docLink = document.createElement('div');\n",
              "          docLink.innerHTML = docLinkHtml;\n",
              "          element.appendChild(docLink);\n",
              "        }\n",
              "      </script>\n",
              "    </div>\n",
              "  </div>\n",
              "  "
            ]
          },
          "metadata": {},
          "execution_count": 3
        }
      ]
    },
    {
      "cell_type": "code",
      "source": [
        "print(\"Total amount of unique sellers: \",len(items[\"Seller\"].unique()))"
      ],
      "metadata": {
        "id": "vzilrMT7Tm5E",
        "colab": {
          "base_uri": "https://localhost:8080/"
        },
        "outputId": "6e874bfb-1de4-4730-89b9-5beb83da60a2"
      },
      "execution_count": 4,
      "outputs": [
        {
          "output_type": "stream",
          "name": "stdout",
          "text": [
            "Total amount of unique sellers:  80\n"
          ]
        }
      ]
    },
    {
      "cell_type": "code",
      "source": [
        "sellers = items.drop_duplicates(subset=['Seller'])\n",
        "sellers = sellers[[\"Seller\", \"Seller Rating (1-5)\", \"Seller Items Sold\"]]\n",
        "\n",
        "from google.colab import data_table\n",
        "data_table.DataTable(sellers, include_index=False, num_rows_per_page=25)\n",
        "\n",
        "# sellers.to_csv('/content/drive/Shared With Me/Module 9 - Minor Cybersecurity & Cybercrime/Introduction to Digital Forensic for Cybercrime/Assignment/Sellers.csv')"
      ],
      "metadata": {
        "id": "bgAreoVOYbry",
        "colab": {
          "base_uri": "https://localhost:8080/",
          "height": 637
        },
        "outputId": "80a0e55c-ff4f-4e80-9be6-dd0795ee8f0c"
      },
      "execution_count": 16,
      "outputs": [
        {
          "output_type": "execute_result",
          "data": {
            "text/html": [
              "<div>\n",
              "<style scoped>\n",
              "    .dataframe tbody tr th:only-of-type {\n",
              "        vertical-align: middle;\n",
              "    }\n",
              "\n",
              "    .dataframe tbody tr th {\n",
              "        vertical-align: top;\n",
              "    }\n",
              "\n",
              "    .dataframe thead th {\n",
              "        text-align: right;\n",
              "    }\n",
              "</style>\n",
              "<table border=\"1\" class=\"dataframe\">\n",
              "  <thead>\n",
              "    <tr style=\"text-align: right;\">\n",
              "      <th></th>\n",
              "      <th>Seller</th>\n",
              "      <th>Seller Rating (1-5)</th>\n",
              "      <th>Seller Items Sold</th>\n",
              "    </tr>\n",
              "  </thead>\n",
              "  <tbody>\n",
              "    <tr>\n",
              "      <th>0</th>\n",
              "      <td>Mr Tren</td>\n",
              "      <td>4.5</td>\n",
              "      <td>87</td>\n",
              "    </tr>\n",
              "    <tr>\n",
              "      <th>1</th>\n",
              "      <td>gearheadz</td>\n",
              "      <td>4.8</td>\n",
              "      <td>1062</td>\n",
              "    </tr>\n",
              "    <tr>\n",
              "      <th>2</th>\n",
              "      <td>SteroidWarehouse</td>\n",
              "      <td>5.0</td>\n",
              "      <td>78</td>\n",
              "    </tr>\n",
              "    <tr>\n",
              "      <th>3</th>\n",
              "      <td>americansteroids</td>\n",
              "      <td>4.8</td>\n",
              "      <td>193</td>\n",
              "    </tr>\n",
              "    <tr>\n",
              "      <th>4</th>\n",
              "      <td>buysteroids</td>\n",
              "      <td>4.8</td>\n",
              "      <td>544</td>\n",
              "    </tr>\n",
              "    <tr>\n",
              "      <th>...</th>\n",
              "      <td>...</td>\n",
              "      <td>...</td>\n",
              "      <td>...</td>\n",
              "    </tr>\n",
              "    <tr>\n",
              "      <th>110</th>\n",
              "      <td>ExoticsClub</td>\n",
              "      <td>4.9</td>\n",
              "      <td>2009</td>\n",
              "    </tr>\n",
              "    <tr>\n",
              "      <th>111</th>\n",
              "      <td>buddy1950</td>\n",
              "      <td>4.8</td>\n",
              "      <td>290</td>\n",
              "    </tr>\n",
              "    <tr>\n",
              "      <th>112</th>\n",
              "      <td>mrfrank</td>\n",
              "      <td>4.8</td>\n",
              "      <td>54</td>\n",
              "    </tr>\n",
              "    <tr>\n",
              "      <th>114</th>\n",
              "      <td>Chuzac12</td>\n",
              "      <td>0.0</td>\n",
              "      <td>0</td>\n",
              "    </tr>\n",
              "    <tr>\n",
              "      <th>115</th>\n",
              "      <td>maurelius</td>\n",
              "      <td>4.6</td>\n",
              "      <td>121</td>\n",
              "    </tr>\n",
              "  </tbody>\n",
              "</table>\n",
              "<p>80 rows × 3 columns</p>\n",
              "</div>"
            ],
            "application/vnd.google.colaboratory.module+javascript": "\n      import \"https://ssl.gstatic.com/colaboratory/data_table/a8bd4d5e58f96183/data_table.js\";\n\n      window.createDataTable({\n        data: [[\"Mr Tren\",\n{\n            'v': 4.5,\n            'f': \"4.5\",\n        },\n{\n            'v': 87,\n            'f': \"87\",\n        }],\n [\"gearheadz\",\n{\n            'v': 4.8,\n            'f': \"4.8\",\n        },\n{\n            'v': 1062,\n            'f': \"1062\",\n        }],\n [\"SteroidWarehouse\",\n{\n            'v': 5.0,\n            'f': \"5.0\",\n        },\n{\n            'v': 78,\n            'f': \"78\",\n        }],\n [\"americansteroids\",\n{\n            'v': 4.8,\n            'f': \"4.8\",\n        },\n{\n            'v': 193,\n            'f': \"193\",\n        }],\n [\"buysteroids\",\n{\n            'v': 4.8,\n            'f': \"4.8\",\n        },\n{\n            'v': 544,\n            'f': \"544\",\n        }],\n [\"AmericanSteroid\",\n{\n            'v': 4.8,\n            'f': \"4.8\",\n        },\n{\n            'v': 63,\n            'f': \"63\",\n        }],\n [\"islandboys\",\n{\n            'v': 4.8,\n            'f': \"4.8\",\n        },\n{\n            'v': 233,\n            'f': \"233\",\n        }],\n [\"Discover\",\n{\n            'v': 0.0,\n            'f': \"0.0\",\n        },\n{\n            'v': 0,\n            'f': \"0\",\n        }],\n [\"TheBodyShop\",\n{\n            'v': 4.6,\n            'f': \"4.6\",\n        },\n{\n            'v': 90,\n            'f': \"90\",\n        }],\n [\"NARCO710\",\n{\n            'v': 4.8,\n            'f': \"4.8\",\n        },\n{\n            'v': 1436,\n            'f': \"1436\",\n        }],\n [\"truegenerics\",\n{\n            'v': 4.9,\n            'f': \"4.9\",\n        },\n{\n            'v': 148,\n            'f': \"148\",\n        }],\n [\"WhiteList\",\n{\n            'v': 4.9,\n            'f': \"4.9\",\n        },\n{\n            'v': 10,\n            'f': \"10\",\n        }],\n [\"hellbin\",\n{\n            'v': 4.9,\n            'f': \"4.9\",\n        },\n{\n            'v': 100,\n            'f': \"100\",\n        }],\n [\"nddnarcs\",\n{\n            'v': 4.9,\n            'f': \"4.9\",\n        },\n{\n            'v': 33,\n            'f': \"33\",\n        }],\n [\"enochrocks\",\n{\n            'v': 0.0,\n            'f': \"0.0\",\n        },\n{\n            'v': 0,\n            'f': \"0\",\n        }],\n [\"AvaBarksdale\",\n{\n            'v': 4.9,\n            'f': \"4.9\",\n        },\n{\n            'v': 182,\n            'f': \"182\",\n        }],\n [\"Bundesliga\",\n{\n            'v': 4.7,\n            'f': \"4.7\",\n        },\n{\n            'v': 242,\n            'f': \"242\",\n        }],\n [\"OldAmsterdam\",\n{\n            'v': 4.5,\n            'f': \"4.5\",\n        },\n{\n            'v': 89,\n            'f': \"89\",\n        }],\n [\"Grownwithlove\",\n{\n            'v': 4.9,\n            'f': \"4.9\",\n        },\n{\n            'v': 24,\n            'f': \"24\",\n        }],\n [\"PlutoPacks\",\n{\n            'v': 4.8,\n            'f': \"4.8\",\n        },\n{\n            'v': 393,\n            'f': \"393\",\n        }],\n [\"PlanetHollywood\",\n{\n            'v': 4.9,\n            'f': \"4.9\",\n        },\n{\n            'v': 946,\n            'f': \"946\",\n        }],\n [\"JanesAddiction\",\n{\n            'v': 4.8,\n            'f': \"4.8\",\n        },\n{\n            'v': 187,\n            'f': \"187\",\n        }],\n [\"qualityfixx\",\n{\n            'v': 4.4,\n            'f': \"4.4\",\n        },\n{\n            'v': 13,\n            'f': \"13\",\n        }],\n [\"Mysteryworld\",\n{\n            'v': 0.0,\n            'f': \"0.0\",\n        },\n{\n            'v': 0,\n            'f': \"0\",\n        }],\n [\"QualityKingsNL\",\n{\n            'v': 4.9,\n            'f': \"4.9\",\n        },\n{\n            'v': 76,\n            'f': \"76\",\n        }],\n [\"Hasbro\",\n{\n            'v': 4.7,\n            'f': \"4.7\",\n        },\n{\n            'v': 90,\n            'f': \"90\",\n        }],\n [\"NarcosEU\",\n{\n            'v': 4.8,\n            'f': \"4.8\",\n        },\n{\n            'v': 60,\n            'f': \"60\",\n        }],\n [\"ThePlugUtopia\",\n{\n            'v': 4.5,\n            'f': \"4.5\",\n        },\n{\n            'v': 168,\n            'f': \"168\",\n        }],\n [\"DutchDragons\",\n{\n            'v': 4.8,\n            'f': \"4.8\",\n        },\n{\n            'v': 78,\n            'f': \"78\",\n        }],\n [\"AlwaysOverweight\",\n{\n            'v': 4.8,\n            'f': \"4.8\",\n        },\n{\n            'v': 48,\n            'f': \"48\",\n        }],\n [\"ThePartyShop\",\n{\n            'v': 4.8,\n            'f': \"4.8\",\n        },\n{\n            'v': 2,\n            'f': \"2\",\n        }],\n [\"whitewitchuk\",\n{\n            'v': 4.6,\n            'f': \"4.6\",\n        },\n{\n            'v': 59,\n            'f': \"59\",\n        }],\n [\"ThisIsHolland\",\n{\n            'v': 4.7,\n            'f': \"4.7\",\n        },\n{\n            'v': 47,\n            'f': \"47\",\n        }],\n [\"GermanMasters\",\n{\n            'v': 4.7,\n            'f': \"4.7\",\n        },\n{\n            'v': 467,\n            'f': \"467\",\n        }],\n [\"dutchpharmacy\",\n{\n            'v': 4.1,\n            'f': \"4.1\",\n        },\n{\n            'v': 48,\n            'f': \"48\",\n        }],\n [\"druggiebears\",\n{\n            'v': 4.8,\n            'f': \"4.8\",\n        },\n{\n            'v': 484,\n            'f': \"484\",\n        }],\n [\"rapido\",\n{\n            'v': 0.0,\n            'f': \"0.0\",\n        },\n{\n            'v': 0,\n            'f': \"0\",\n        }],\n [\"musashu\",\n{\n            'v': 4.8,\n            'f': \"4.8\",\n        },\n{\n            'v': 184,\n            'f': \"184\",\n        }],\n [\"MisterMolly\",\n{\n            'v': 4.6,\n            'f': \"4.6\",\n        },\n{\n            'v': 70,\n            'f': \"70\",\n        }],\n [\"EifelCartel\",\n{\n            'v': 4.7,\n            'f': \"4.7\",\n        },\n{\n            'v': 104,\n            'f': \"104\",\n        }],\n [\"COSTCOKE\",\n{\n            'v': 4.9,\n            'f': \"4.9\",\n        },\n{\n            'v': 76,\n            'f': \"76\",\n        }],\n [\"ActiveJ\",\n{\n            'v': 4.8,\n            'f': \"4.8\",\n        },\n{\n            'v': 327,\n            'f': \"327\",\n        }],\n [\"Coffeshop\",\n{\n            'v': 4.3,\n            'f': \"4.3\",\n        },\n{\n            'v': 301,\n            'f': \"301\",\n        }],\n [\"Michelle\",\n{\n            'v': 4.7,\n            'f': \"4.7\",\n        },\n{\n            'v': 94,\n            'f': \"94\",\n        }],\n [\"kingscan\",\n{\n            'v': 5.0,\n            'f': \"5.0\",\n        },\n{\n            'v': 2,\n            'f': \"2\",\n        }],\n [\"Pegasus\",\n{\n            'v': 4.2,\n            'f': \"4.2\",\n        },\n{\n            'v': 65,\n            'f': \"65\",\n        }],\n [\"HarleyQuinn\",\n{\n            'v': 4.5,\n            'f': \"4.5\",\n        },\n{\n            'v': 1116,\n            'f': \"1116\",\n        }],\n [\"Fullzipp\",\n{\n            'v': 3.9,\n            'f': \"3.9\",\n        },\n{\n            'v': 170,\n            'f': \"170\",\n        }],\n [\"h3exx\",\n{\n            'v': 4.9,\n            'f': \"4.9\",\n        },\n{\n            'v': 113,\n            'f': \"113\",\n        }],\n [\"trustar\",\n{\n            'v': 4.5,\n            'f': \"4.5\",\n        },\n{\n            'v': 447,\n            'f': \"447\",\n        }],\n [\"SATAII\",\n{\n            'v': 5.0,\n            'f': \"5.0\",\n        },\n{\n            'v': 17,\n            'f': \"17\",\n        }],\n [\"Matchmaker\",\n{\n            'v': 0.0,\n            'f': \"0.0\",\n        },\n{\n            'v': 3,\n            'f': \"3\",\n        }],\n [\"candyonline\",\n{\n            'v': 3.3,\n            'f': \"3.3\",\n        },\n{\n            'v': 19,\n            'f': \"19\",\n        }],\n [\"Alphahome\",\n{\n            'v': 4.7,\n            'f': \"4.7\",\n        },\n{\n            'v': 2,\n            'f': \"2\",\n        }],\n [\"preet\",\n{\n            'v': 4.5,\n            'f': \"4.5\",\n        },\n{\n            'v': 71,\n            'f': \"71\",\n        }],\n [\"DrunkDragon\",\n{\n            'v': 4.4,\n            'f': \"4.4\",\n        },\n{\n            'v': 282,\n            'f': \"282\",\n        }],\n [\"g3cko\",\n{\n            'v': 4.1,\n            'f': \"4.1\",\n        },\n{\n            'v': 336,\n            'f': \"336\",\n        }],\n [\"BitDark\",\n{\n            'v': 5.0,\n            'f': \"5.0\",\n        },\n{\n            'v': 38,\n            'f': \"38\",\n        }],\n [\"breadsdrugged\",\n{\n            'v': 4.8,\n            'f': \"4.8\",\n        },\n{\n            'v': 359,\n            'f': \"359\",\n        }],\n [\"digitalworld\",\n{\n            'v': 4.9,\n            'f': \"4.9\",\n        },\n{\n            'v': 389,\n            'f': \"389\",\n        }],\n [\"loveandhatev2\",\n{\n            'v': 4.9,\n            'f': \"4.9\",\n        },\n{\n            'v': 41,\n            'f': \"41\",\n        }],\n [\"MasterMeds\",\n{\n            'v': 4.8,\n            'f': \"4.8\",\n        },\n{\n            'v': 30,\n            'f': \"30\",\n        }],\n [\"FakeYourCard\",\n{\n            'v': 5.0,\n            'f': \"5.0\",\n        },\n{\n            'v': 3,\n            'f': \"3\",\n        }],\n [\"composer\",\n{\n            'v': 0.0,\n            'f': \"0.0\",\n        },\n{\n            'v': 0,\n            'f': \"0\",\n        }],\n [\"kamagra4bitcoin\",\n{\n            'v': 4.8,\n            'f': \"4.8\",\n        },\n{\n            'v': 68,\n            'f': \"68\",\n        }],\n [\"Lidicaineshop\",\n{\n            'v': 0.0,\n            'f': \"0.0\",\n        },\n{\n            'v': 0,\n            'f': \"0\",\n        }],\n [\"EmergencyB\",\n{\n            'v': 5.0,\n            'f': \"5.0\",\n        },\n{\n            'v': 32,\n            'f': \"32\",\n        }],\n [\"PenileFractures\",\n{\n            'v': 4.9,\n            'f': \"4.9\",\n        },\n{\n            'v': 57,\n            'f': \"57\",\n        }],\n [\"DrugsUK\",\n{\n            'v': 4.8,\n            'f': \"4.8\",\n        },\n{\n            'v': 160,\n            'f': \"160\",\n        }],\n [\"Donjuan\",\n{\n            'v': 4.6,\n            'f': \"4.6\",\n        },\n{\n            'v': 115,\n            'f': \"115\",\n        }],\n [\"TheScotchShop\",\n{\n            'v': 4.9,\n            'f': \"4.9\",\n        },\n{\n            'v': 190,\n            'f': \"190\",\n        }],\n [\"UberEatsUK\",\n{\n            'v': 3.6,\n            'f': \"3.6\",\n        },\n{\n            'v': 7,\n            'f': \"7\",\n        }],\n [\"WONDERLAND\",\n{\n            'v': 5.0,\n            'f': \"5.0\",\n        },\n{\n            'v': 29,\n            'f': \"29\",\n        }],\n [\"Esnortiar\",\n{\n            'v': 5.0,\n            'f': \"5.0\",\n        },\n{\n            'v': 68,\n            'f': \"68\",\n        }],\n [\"FinestQuality\",\n{\n            'v': 4.8,\n            'f': \"4.8\",\n        },\n{\n            'v': 52,\n            'f': \"52\",\n        }],\n [\"ExoticsClub\",\n{\n            'v': 4.9,\n            'f': \"4.9\",\n        },\n{\n            'v': 2009,\n            'f': \"2009\",\n        }],\n [\"buddy1950\",\n{\n            'v': 4.8,\n            'f': \"4.8\",\n        },\n{\n            'v': 290,\n            'f': \"290\",\n        }],\n [\"mrfrank\",\n{\n            'v': 4.8,\n            'f': \"4.8\",\n        },\n{\n            'v': 54,\n            'f': \"54\",\n        }],\n [\"Chuzac12\",\n{\n            'v': 0.0,\n            'f': \"0.0\",\n        },\n{\n            'v': 0,\n            'f': \"0\",\n        }],\n [\"maurelius\",\n{\n            'v': 4.6,\n            'f': \"4.6\",\n        },\n{\n            'v': 121,\n            'f': \"121\",\n        }]],\n        columns: [[\"string\", \"Seller\"], [\"number\", \"Seller Rating (1-5)\"], [\"number\", \"Seller Items Sold\"]],\n        columnOptions: [],\n        rowsPerPage: 25,\n        helpUrl: \"https://colab.research.google.com/notebooks/data_table.ipynb\",\n        suppressOutputScrolling: true,\n        minimumWidth: undefined,\n      });\n    ",
            "text/plain": [
              "<google.colab.data_table.DataTable object>"
            ]
          },
          "metadata": {},
          "execution_count": 16
        }
      ]
    },
    {
      "cell_type": "markdown",
      "source": [
        "## Conclusion\n",
        "\n",
        "The top 10 most successful sellers on the list that we have are:\n"
      ],
      "metadata": {
        "id": "xv96h9EfAJ4v"
      }
    },
    {
      "cell_type": "code",
      "source": [
        "sorted_list_sellers = sellers.sort_values(\"Seller Items Sold\", ascending=False)[0:10]\n",
        "print(sorted_list_sellers.to_string(index=False))\n",
        "print()\n",
        "sorted_list_sellers = sorted_list_sellers.drop(columns=['Seller Rating (1-5)'])\n",
        "sellers_graph = sorted_list_sellers.set_index('Seller').plot.bar()"
      ],
      "metadata": {
        "id": "0Gaw-PHmIQ8Z",
        "colab": {
          "base_uri": "https://localhost:8080/",
          "height": 560
        },
        "outputId": "2f7deba0-d23a-4c3f-c874-41fa528c7583"
      },
      "execution_count": 6,
      "outputs": [
        {
          "output_type": "stream",
          "name": "stdout",
          "text": [
            "         Seller  Seller Rating (1-5)  Seller Items Sold\n",
            "    ExoticsClub                  4.9               2009\n",
            "       NARCO710                  4.8               1436\n",
            "    HarleyQuinn                  4.5               1116\n",
            "      gearheadz                  4.8               1062\n",
            "PlanetHollywood                  4.9                946\n",
            "    buysteroids                  4.8                544\n",
            "   druggiebears                  4.8                484\n",
            "  GermanMasters                  4.7                467\n",
            "        trustar                  4.5                447\n",
            "     PlutoPacks                  4.8                393\n",
            "\n"
          ]
        },
        {
          "output_type": "display_data",
          "data": {
            "text/plain": [
              "<Figure size 432x288 with 1 Axes>"
            ],
            "image/png": "[encoded data removed]"
          },
          "metadata": {
            "needs_background": "light"
          }
        }
      ]
    },
    {
      "cell_type": "markdown",
      "source": [
        "From all these listings we've selected the 3 most suprising. First item is *1kg of gold flakes*, selling for around 50000 euros. This is also suprising because the price per kg of gold is around 54000 euros, which would mean the seller could earn more if it was sold as a normal gold. Another item would be \"Pikachu Pills\" and similarly named drugs (\"NASA Rockets\"), using seemingly arbitrary names from popculture. The third suprising listing was a software called \"MOBILedit Forensic\" that, according to the description, lets you 'work like the CIA'."
      ],
      "metadata": {
        "id": "VNiuwDOOIQeb"
      }
    },
    {
      "cell_type": "code",
      "source": [
        "print(\"Item 1\")\n",
        "print(items.loc[69,:])\n",
        "print()\n",
        "print(\"Item 2\")\n",
        "print(items.loc[27,:])\n",
        "print()\n",
        "print(\"Item 3\")\n",
        "print(items.loc[83,:])"
      ],
      "metadata": {
        "colab": {
          "base_uri": "https://localhost:8080/"
        },
        "id": "iUHKGlGgCCeK",
        "outputId": "12aee6ab-fccf-444c-91de-f8367142f47d"
      },
      "execution_count": 7,
      "outputs": [
        {
          "output_type": "stream",
          "name": "stdout",
          "text": [
            "Item 1\n",
            "Name                    Buy 1KG Gold Flakes\n",
            "Category                  Counterfeit Items\n",
            "Seller                            Alphahome\n",
            "Seller Rating (1-5)                     4.7\n",
            "Seller Items Sold                         2\n",
            "Price (EUR)                         50020.0\n",
            "Stock                             Unlimited\n",
            " Legality (L/I/D)                         L\n",
            "Legality Explanation                    NaN\n",
            "Name: 69, dtype: object\n",
            "\n",
            "Item 2\n",
            "Name                    10x-250x 2CB Pikachu Pills 26mg WW USA AUS EC\n",
            "Category                                                 Psychedelics\n",
            "Seller                                                   OldAmsterdam\n",
            "Seller Rating (1-5)                                               4.5\n",
            "Seller Items Sold                                                  89\n",
            "Price (EUR)                                                       5.0\n",
            "Stock                                                       Unlimited\n",
            " Legality (L/I/D)                                                   I\n",
            "Legality Explanation                                              NaN\n",
            "Name: 27, dtype: object\n",
            "\n",
            "Item 3\n",
            "Name                    MOBILedit Forensic - work like CIA\n",
            "Category                                Software & Malware\n",
            "Seller                                               g3cko\n",
            "Seller Rating (1-5)                                    4.1\n",
            "Seller Items Sold                                      336\n",
            "Price (EUR)                                           2.08\n",
            "Stock                                            Unlimited\n",
            " Legality (L/I/D)                                        L\n",
            "Legality Explanation                                   NaN\n",
            "Name: 83, dtype: object\n"
          ]
        }
      ]
    },
    {
      "cell_type": "markdown",
      "source": [
        "We've also selected 3 sellers that the police should investigate:"
      ],
      "metadata": {
        "id": "g9-uURf_QSOd"
      }
    },
    {
      "cell_type": "code",
      "source": [
        "print(sellers[sellers['Seller'].isin(['WONDERLAND', 'SteroidWarehouse', 'gearheadz'])].to_string(index=False))"
      ],
      "metadata": {
        "colab": {
          "base_uri": "https://localhost:8080/"
        },
        "id": "uK0TK7W0Qhjh",
        "outputId": "e751db56-8c9c-4086-85f7-fa6150e56986"
      },
      "execution_count": 14,
      "outputs": [
        {
          "output_type": "stream",
          "name": "stdout",
          "text": [
            "          Seller  Seller Rating (1-5)  Seller Items Sold\n",
            "       gearheadz                  4.8               1062\n",
            "SteroidWarehouse                  5.0                 78\n",
            "      WONDERLAND                  5.0                 29\n"
          ]
        }
      ]
    },
    {
      "cell_type": "markdown",
      "source": [
        "The first one is *gearheadz* - they have 1062 items sold, which puts them at 4th place for most items sold (from the sellers we’ve investigated), and they sell a variety of things (steroids, prescription drugs), all of which are illegal unless prescribed by a doctor."
      ],
      "metadata": {
        "id": "yjJFaLgNQhwH"
      }
    },
    {
      "cell_type": "markdown",
      "source": [
        "Another seller is *SteroidWarehouse* - this seller is selling steroids, more specifically growth hormones, some of which are reportedly completely illegal to possess in the Netherlands ([GHRP-6 & CJC-1295 Mix](https://blog.uwgb.edu/ruthd/2022/01/20/one-dozen-advantages-of-using-cjc-1295-and-ghrp-6-in-combination/)).\n",
        "\n",
        "The third seller would be *WONDERLAND* who is selling XTC and the reasons are that the amount being sold is quite large (1000 pills) and the item is also expensive (1999 EUR). This mean that this seller is offering large quantities of hard drugs. And since the stock is specified as 'Unlimited', it could mean that they are producing the drug at a large scale."
      ],
      "metadata": {
        "id": "ESbdWtBcQiNN"
      }
    },
    {
      "cell_type": "code",
      "source": [
        "print(items.loc[105,:])"
      ],
      "metadata": {
        "id": "safLLekeQial",
        "colab": {
          "base_uri": "https://localhost:8080/"
        },
        "outputId": "cf83a22e-fda4-4dcd-8801-3ef7c1498eaa"
      },
      "execution_count": 15,
      "outputs": [
        {
          "output_type": "stream",
          "name": "stdout",
          "text": [
            "Name                    XTC YELLOW BITCOIN 250MG - 1000 PILLS\n",
            "Category                                              Ecstasy\n",
            "Seller                                             WONDERLAND\n",
            "Seller Rating (1-5)                                       5.0\n",
            "Seller Items Sold                                          29\n",
            "Price (EUR)                                            1999.0\n",
            "Stock                                               Unlimited\n",
            " Legality (L/I/D)                                           I\n",
            "Legality Explanation                                      NaN\n",
            "Name: 105, dtype: object\n"
          ]
        }
      ]
    },
    {
      "cell_type": "markdown",
      "source": [
        "## Reflection\n",
        "\n",
        "During this assignment, there were a few things regarding the methodology that could be improved. One of them would be that each listing had to be manually trascribed, which took a lot of time. However, there is no easy way to transcribe it faster as the website itself uses the .onion extension, so there is no easy way to make a program to copy each listing. Since the browsing was very slow at times, \n",
        "\n",
        "Overall, it gave us an overview of what items can be found on black markets and an example of how do the markets operate, especially regarding the measures they take to not get compromised or taken down."
      ],
      "metadata": {
        "id": "pR6Cn2ujUwWp"
      }
    },
    {
      "cell_type": "markdown",
      "source": [
        "## Appendix A\n",
        "\n",
        "<figure>\n",
        "  <img src=\"https://drive.google.com/uc?export=view&id=1ao_0CPFOIcTGl394m3jqg70uJQVP9r17\" width=\"250\">\n",
        "  <figcaption>Fig.1 DDoS Defender Loading</figcaption>\n",
        "</figure>\n",
        "<figure>\n",
        "  <img src=\"https://drive.google.com/uc?export=view&id=1s1MwvTHnBWWAO1VojN5zn947LbgLptPW\" width=\"250\">\n",
        "  <figcaption>Fig.2 DDoS Defender Check</figcaption>\n",
        "</figure>\n",
        "<figure>\n",
        "  <img src=\"https://drive.google.com/uc?export=view&id=1_76hblivwHoT1VHQsgli2VneRK-k5jYu\" width=\"500\" />\n",
        "  <figcaption>Fig.3 Bohemia Market Front Page</figcaption>\n",
        "</figure>\n",
        "\n",
        "<!-- <img src=\"https://drive.google.com/uc?export=view&id=1ao_0CPFOIcTGl394m3jqg70uJQVP9r17\" width=\"250\" /> -->\n",
        "<!-- <img src=\"https://drive.google.com/uc?export=view&id=1s1MwvTHnBWWAO1VojN5zn947LbgLptPW\" width=\"250\" /> -->\n",
        "<!-- <img src=\"https://drive.google.com/uc?export=view&id=1_76hblivwHoT1VHQsgli2VneRK-k5jYu\" width=\"500\" /> -->\n",
        "<!-- <img src=\"https://drive.google.com/uc?export=view&id=1jMjJR5d198qwa1U8r6HeXG5sV6Hul9fu\" /> -->\n",
        "<!-- <br>Steroids<br>\n",
        "<img src=\"https://drive.google.com/uc?export=view&id=1MquaHBeDhWScD0fUoAGBy4dIckMJ9mLD\" width=\"400\" />\n",
        "<br>Counterfeit Items<br>\n",
        "<img src=\"https://drive.google.com/uc?export=view&id=1G-cz-8qH09bFWEw-fnz-Qr5ruo_dXXWf\" width=\"400\" /> -->\n",
        "\n",
        "<figure>\n",
        "  <img src=\"https://drive.google.com/uc?export=view&id=1MquaHBeDhWScD0fUoAGBy4dIckMJ9mLD\" style=\"width:60%\">\n",
        "  <figcaption>Fig.4 Bohemia Market Listing Steroids</figcaption>\n",
        "</figure>\n",
        "<figure>\n",
        "  <img src=\"https://drive.google.com/uc?export=view&id=1G-cz-8qH09bFWEw-fnz-Qr5ruo_dXXWf\" style=\"width:60%\">\n",
        "  <figcaption>Fig.5 Bohemia Market Listing Counterfeit Items</figcaption>\n",
        "</figure>\n",
        "\n",
        "<figure>\n",
        "  <img src=\"https://drive.google.com/uc?export=view&id=1jMjJR5d198qwa1U8r6HeXG5sV6Hul9fu\" >\n",
        "  <figcaption>Fig.6 DDoS Filter Killing Our Path</figcaption>\n",
        "</figure>\n",
        "\n",
        "\n",
        "\n",
        "<!-- ![Listing_Steroids](https://drive.google.com/uc?export=view&id=1MquaHBeDhWScD0fUoAGBy4dIckMJ9mLD)\n",
        "![Listing_Counterfeit](https://drive.google.com/uc?export=view&id=1G-cz-8qH09bFWEw-fnz-Qr5ruo_dXXWf) -->"
      ],
      "metadata": {
        "id": "enVcuRA8xYjf"
      }
    }
  ]
}